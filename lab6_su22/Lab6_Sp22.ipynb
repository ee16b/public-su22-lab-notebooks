{
 "cells": [
  {
   "cell_type": "markdown",
   "metadata": {},
   "source": [
    "# Sim Lab 6: System Identification\n",
    "\n",
    "### EECS 16B: Designing Information Devices and Systems II, Summer 2022\n",
    "\n",
    "Updated by Mingyang Wang (2022)\n",
    "\n",
    "quackquack@berkeley.edu\n",
    "\n",
    "Updated by Bozhi Yin (2021, 2022)\n",
    "\n",
    "bozhi_yin@berkeley.edu\n",
    "\n",
    "Zhongkai Wang (2021)\n",
    "\n",
    "zhongkai@berkeley.edu"
   ]
  },
  {
   "cell_type": "markdown",
   "metadata": {},
   "source": [
    "## Table of Contents\n",
    "\n",
    "* System Identification\n",
    "    * [Part 0: Introduction](#intro)\n",
    "    * [Part 1: Power and Actuator Circuits](#part1)\n",
    "    * [Part 2: Open Loop Data Collection and Parameter Estimation](#part2)\n",
    "    * [Part 3: Determining the Operating Point](#part3)\n",
    "    * [Part 4: Checkoff](#part4)\n",
    "\n",
    "## <span style=\"color:#ba190f\"> You need to run the Python scripts one by one, or errors will show up as they rely on the variables defined sequentially!!\n",
    "\n",
    "## <span style=\"color:#ba190f\"> DO NOT include units when submitting your answers on Gradescope! ONLY include the numerical value rounded to the number of decimal places specified in each question, in the units specified in the question. DO NOT include letters, words, etc. If a question involves entering an answer that is not a numerical value, the format of the answer will be clearly specified in that question.\n"
   ]
  },
  {
   "cell_type": "markdown",
   "metadata": {},
   "source": [
    "## Lab Notes\n",
    "- [Main Lab Note](https://www.eecs16b.org/lab/notes/lab_note6.pdf)\n",
    "- [Lab Note 3 with the motor controller circuits](https://www.eecs16b.org/lab/notes/lab_note3.pdf)\n",
    "\n",
    "Review the lab note. The lab note provides a technical review of the concepts covered in lab as well as theoretical connections. **You should read the lab notes before your lab section.** They serve as a review and will be helpful as a reference during section.\n"
   ]
  },
  {
   "cell_type": "markdown",
   "metadata": {},
   "source": [
    "## Pre-Lab\n",
    "\n",
    "### Complete the pre-lab assignment before doing the lab. For sim students, submit your answers to the Gradescope assignment \"Pre-Lab 6: System ID.\" Please make sure that you submit to the correct assignment. Pre-Lab 6 is due on Sunday, July 10 at 11:59pm. No late submissions will be accepted.\n"
   ]
  },
  {
   "cell_type": "markdown",
   "metadata": {},
   "source": [
    "<a id='intro'></a>\n",
    "## <span style=\"color:blue\">Part 0: Introduction\n",
    "\n",
    "In this lab, we will\n",
    "    \n",
    "- build the SIXT33N actuators (motor controller)\n",
    "- test the encoders to verify our sensing readings are accurate.\n",
    "- model the the car as an open loop system.\n",
    "- collect data and determine the parameters of our model using least-squares.\n"
   ]
  },
  {
   "cell_type": "markdown",
   "metadata": {},
   "source": [
    "<a id='part1'></a>\n",
    "## <span style=\"color:blue\">Part 1: Power and Actuator Circuits</span>\n",
    "\n",
    "### Virtual Materials\n",
    "- 2 NPN BJTs (Bipolar Junction Transistor)\n",
    "- 2 Diodes\n",
    "- Multimeter\n",
    "- Oscilloscopes\n",
    "- Arduino Microcontroller\n",
    "- 1 2k $\\Omega$ resistors\n",
    "- 1 4.5k $\\Omega$ resistors\n",
    "- 1 3-terminal switch"
   ]
  },
  {
   "cell_type": "markdown",
   "metadata": {},
   "source": [
    "### Tasks\n",
    "\n",
    "### 1.0 Plan Your Breadboard Layout\n",
    "\n",
    "Our circuit will need two sources of power:\n",
    "\n",
    "- 9V (Will come from the battery) \n",
    "- 5V (Will come from the Arduino board)\n",
    "    - The use of the regulator along with an oscilloscope will trigger weird bugs in Tinkercad. So we use 5V power supply directly from the Arduino board.\n",
    "    - We typically don't use the pins of the Arduino board to power the circuit due to its limited allowed current. But it's OK in this lab since the required current isn't that large.\n",
    "\n",
    "Try to divide your breadboard into the following sections so that you have room for both this lab's circuits and the ones we'll build later.\n",
    "\n",
    "- Use top (+) rail for 9V, and bottom (+) rail for 5V.\n",
    "- Connect the two (-) to create the ground rail.\n",
    "\n",
    "<img style=\"width:700px\" src=\"images/floorplan.png\">\n",
    "\n",
    "The power distribution is shown in the diagram below. The motor controller circuits use the 9V supply from battery to drive the motor. The encoder of the motors gets 5V supply from the Arduino board. **Note that all the grounds (including the grounds of the battery, the Arduino board and the breadboard) are connected.**\n",
    "\n",
    "<br/><br/>\n",
    "\n",
    "<center>\n",
    "<img width=\"500px\" src=\"images/proj-power.png\">\n",
    "</center>"
   ]
  },
  {
   "cell_type": "markdown",
   "metadata": {},
   "source": [
    "### 1.1 Get familiar with the motor encoder\n",
    "\n",
    "As mentioned in Lab 3, the motor has 6 pins. The two leftmost pins are the driving pins, that you connect using the motor controller circuit. The other 4 pins are for the encoder module, which outputs a single pulse on channels A and B whenever the motor rotates for a specific amount. By counting the number of pulses being outputted by the encoder, we can easily gauge how fast the motor is rotating and whether adjustments need to be made to the input signal. In this lab, we will use **Channel A** to get the rotating speed of the motors.\n",
    "\n",
    "<img width=\"400px\" src=\"images/motor_with_encoder.png\">\n",
    "\n",
    "\n",
    "### 1.2 Build the circuit\n",
    "\n",
    "For this lab, you have two choices - you can start with the circuit you made in lab 3, or you can use the starter circuit and re-construct the circuit in Tinkercad.\n",
    "\n",
    "#### <span style=\"color:#ba190f\">1.2.1 If you use the [starter circuit](https://www.tinkercad.com/things/f7Jvx92o2iG) in Tinkercad for the following lab, the procedure is the following.\n",
    "\n",
    "1. Review [lab note](https://www.eecs16b.org/lab/notes/lab_note3.pdf) in lab 3. Construct the circuit below for **each wheel** using motors, resistors, NPN BJTs and diodes. Please note that\n",
    "\n",
    "    - The motor is reversible. If it turns out to go backwards later, just reverse the two terminals of the motor.\n",
    "    - Make sure to match the Base, Emitter, and Collector of the BJT properly to the schematic.\n",
    "    - Add a diode in parallel with the motor. Be careful which terminal is attached to the 9V power supply.\n",
    "    - Add a switch between 9V and the motor drivers. You only need ONE switch!\n",
    "    - **Please connect $2k \\Omega$ resistor for the left BJT base and $4.5k \\Omega$ to the right BJT base.** By doing so, we intentionally add some differences between the left and right controller circuits, and make their rotational speed different. \n",
    "\n",
    "   <img width=\"400px\" src=\"images/motor-drive-with-switch.png\">\n",
    "\n",
    "2. Connect the motor encoders for **each wheel**.\n",
    "\n",
    "    - Connect both the **encoder grounds (pin 3 in the motor diagram)** to breadboard ground rail (-).\n",
    "    - Connect both the **encoder powers (pin 6 in the motor diagram)** to bottom (+) rail (5V power rail).\n",
    "    - Connect the **channel A (pin 5 in the motor diagram)** pins of the <span style=\"color:#ba190f\">left motor</span> and <span style=\"color:#ba190f\">right motor</span> to Arduino <span style=\"color:#ba190f\"> pin 3</span> and <span style=\"color:#ba190f\">pin 2</span> respectively.\n",
    "    \n",
    "\n",
    "3. Connect Arduino to controller circuits.\n",
    "\n",
    "    - Connect the node labeled **Arduino output pin** of the <span style=\"color:#ba190f\">left motor</span> controller circuit to <span style=\"color:#ba190f\">pin 10</span> on the Microcontroller. \n",
    "    - Connect the node labeled **Arduino output pin** of the <span style=\"color:#ba190f\">right motor</span> controller circuit to <span style=\"color:#ba190f\">pin 9</span> on the Microcontroller. \n",
    "\n",
    "\n",
    "####  <span style=\"color:#ba190f\"> 1.2.2 If you use the lab 3 circuit, you need to make the following changes. \n",
    "0. Log in to your [dashboard](https://www.tinkercad.com/dashboard) of Tinkercad. Your previous design from lab 3 should be in the *Circuits* section.\n",
    "1. Make a duplicate of your circuit from lab 3 in Tinkercad.\n",
    "    \n",
    "    - **Remove the 5V regulators and associated components from your circuit.** The voltage regulator will trigger weird bugs in Tinkercad.\n",
    "    - **Connect breadboard bottom (+) rail to Arduino 5V supply pin.**\n",
    "    - **Remove your connections connecting Arduino pin 9 and controller circuits from lab3.**\n",
    "    \n",
    "    \n",
    "2. For the motor controller circuit,\n",
    "\n",
    "    - **Connect $2k \\Omega$ resistor for the left BJT base and $4.5k \\Omega$ to the right BJT base.** By doing so, we intentionally add some differences between the left and right controller circuits, and make their rotational speed different. \n",
    "\n",
    "    \n",
    "3. Connect the motor encoders for **each wheel**.\n",
    "\n",
    "    - Connect both the **encoder grounds (pin 3 in the motor diagram)** to breadboard ground rail (-).\n",
    "    - Connect both the **encoder powers (pin 6 in the motor diagram)** to bottom (+) rail (5V power rail).\n",
    "    - Connect the **channel A (pin 5 in the motor diagram)** pins of the <span style=\"color:#ba190f\">left motor</span> and <span style=\"color:#ba190f\">right motor</span> to Arduino <span style=\"color:#ba190f\"> pin 3</span> and <span style=\"color:#ba190f\">pin 2</span> respectively.\n",
    "\n",
    "    \n",
    "4. Connect Arduino to controller circuits.\n",
    "    \n",
    "    - Connect the node labeled **Arduino output pin** of the <span style=\"color:#ba190f\">left motor</span> controller circuit to <span style=\"color:#ba190f\">pin 10</span> on the Microcontroller. \n",
    "    - Connect the node labeled **Arduino output pin** of the <span style=\"color:#ba190f\">right motor</span> controller circuit to <span style=\"color:#ba190f\">pin 9</span> on the Microcontroller. \n",
    "\n",
    "### 1.3 Test the circuit.\n",
    "\n",
    "1. **If you used your previous circuit, you need to upload `dynamics_data.ino` to your code environment** in order to load it in onto the microcontroller. Make sure parameter **`MODE`** in line 6 is 0. \n",
    "\n",
    "2. Open the serial monitor.\n",
    " \n",
    "     - As the program runs, you should see the \"Encoder values\" in the serial monitor. This is the number of encoder pulses within every 200ms duration. **The two numbers are for the left motor and right motor, respectively.** After about five cycles, the number becomes stable with slight fluctuations. \n",
    "     - To control the PWM duty cycle, you can change parameter `PWM_CONST` in line 7 of the code. **When `PWM_CONST` is 200, encoder value of the left motor is around 359.**\n",
    "\n",
    "    \n",
    "3. You can also try to debug your circuit by  \n",
    "\n",
    "    - probing the two encoder outputs (pin **channel A** ) with oscilloscopes and observe the encoder outputs. If you set the `Time Per Division` to 1ms, you should see the following waveform (`PWM_CONST` is 200).\n",
    "    - observing the motor rpm written on it when the simulation is running.\n",
    "\n",
    "<img width=\"350px\" src=\"images/encoder_output.png\">"
   ]
  },
  {
   "cell_type": "markdown",
   "metadata": {},
   "source": [
    "## Questions\n",
    "\n",
    "**<span style=\"color:#075a04\"> 1. Which motor rotates at a higher speed?</span>**\n",
    "\n",
    "- A. The left motor\n",
    "- B. The right motor\n",
    "- C. The two motors have almost the same rotating speed\n",
    "\n",
    "< YOU ANSWER ON GRADESCOPE > \n",
    "\n",
    "**<span style=\"color:#075a04\"> 2. In real life, the two motors might rotate at different rotating speeds. What could cause the difference in our circuit? Choose all the answers that are correct.</span>** \n",
    "\n",
    "- A. The diodes which are in parallel with the motor may be different and then make the current delivered to the motor different when BJT is on.\n",
    "- B. The motors may have different sensitivities to current, due to electrical or mechanical differences.\n",
    "- C. The BJTs may have different output currents even with the the same input voltages.\n",
    "- D. The two resistors connecting to BJT bases may have resistance errors.\n",
    "\n",
    "< YOU ANSWER ON GRADESCOPE > \n",
    "\n",
    "<span style=\"color:#075a04\"> **3. Change parameter `PWM_CONST` to 255, what is the number of encoder pulses you get for the left motor from the Serial Monitor (after the values stabilize)? <span style=\"color:#ba190f\"> Enter an integer value (e.g. 100).** \n",
    "\n",
    "< YOU ANSWER ON GRADESCOPE > \n",
    " \n",
    "<span style=\"color:#075a04\"> **4. When increasing parameter `PWM_CONST`, how does the period of the encoder pulses change? Hint: Use an oscilloscope to monitor encoder's output. The period** \n",
    "    \n",
    "- A. increases\n",
    "- B. decreases\n",
    "- C. does not change\n",
    "\n",
    "< YOU ANSWER ON GRADESCOPE > \n",
    "    \n",
    "<span style=\"color:#075a04\"> **5. Change parameter `PWM_CONST` to 255. What is the difference in the number of encoder pulses between the left and right motors (after the values stabilize)? Use the number of the left motor minus the number of the right motor. <span style=\"color:#ba190f\"> Enter an integer value (the number could be negative, e.g. -100).** \n",
    "\n",
    "< YOU ANSWER ON GRADESCOPE > "
   ]
  },
  {
   "cell_type": "markdown",
   "metadata": {},
   "source": [
    "<a id='part3'></a>\n",
    "## <span style=\"color:blue\">Part 2: Open Loop Data Collection and Parameter Estimation</span>\n",
    "\n"
   ]
  },
  {
   "cell_type": "markdown",
   "metadata": {},
   "source": [
    "\n",
    "### 2.0. Please read the [lab note](https://www.eecs16b.org/lab/notes/lab_note6.pdf).\n",
    "\n",
    "Before trying to control SIXT33N, we will first determine the system operating point: since your motors are not identical, we need to find an operating velocity that both motors can reach. We will assume that velocity varies approximately linearly with applied voltage, so we will collect data across a range of applied voltages and then perform a least-squares linear regression on a subset of the data (located around your operating point). You will do this separately for each wheel. By doing this, we are effectively forming a simplified model of your car (you will use a more detailed model to design your control scheme, but this is enough for us to get the data we need)."
   ]
  },
  {
   "cell_type": "markdown",
   "metadata": {},
   "source": [
    "### 2.1. Collect data\n",
    "\n",
    "Now, you will collect the data. Glance through the code - when parameter **`MODE`** is 1, it records the position of each wheel while varying the PWM input signal (noted as $u[n]$) linearly from HIGH_PWM to LOW_PWM and back up. The sampling period is $T_s = 200\\mathrm{ms}$. A long sampling period is used to minimize error due to quantization, the rounding error from measuring only integer encoder ticks.\n",
    "\n",
    "The five parameters in code block `SID1` will sweep through the whole range of PWM values, from maximum to minimum and back to maximum, while collecting only 1 sample per PWM. This means **the motor will stop for a short time in the middle of the test.**\n",
    "\n",
    "#### About DATA collection:\n",
    "1. Change parameter **`MODE` to 1**. \n",
    "2. Clear the Serial Monitor.\n",
    "3. **Make sure the switch is ON before starting the simulation.** When running the code, Arduino will run the motors and collect data, then read data collected onto the Serial Monitor. You need to wait for a while for the data to show up, it takes about 10 seconds of simulator time.\n",
    "4. When reading the data from the Serial Monitor:\n",
    "    - The data is printed in lines as comma separated 3-tuples. \n",
    "    - Copy ONLY these 3-tuples, nothing else. You will paste them into a text file in the part below.\n",
    "    - Your data should look something like this (of course, the values might not be exactly the same):\n",
    "<img width=\"225px\" src=\"images/data_coarse_example-v2.png\">"
   ]
  },
  {
   "cell_type": "markdown",
   "metadata": {},
   "source": [
    "### 2.2. Plot data:\n",
    "\n",
    "- Once you've copied data from the serial monitor, paste it into the given text file called **`data.txt`** in the *home directory* of this lab. **Delete all the empty lines and useless messages, only keep the numbers as picture above.**\n",
    "\n",
    "The example plot below shows an example of extreme differences between the two wheels from the **hands-on lab**. Here, the 1$\\mathrm{k\\Omega}$ and 3$\\mathrm{k\\Omega}$ base resistors are used in the left and right motor control circuits, respectively. The smaller resistor drives the BJT with more current ($I=\\frac{V}{R}$, smaller $\\downarrow R\\implies \\uparrow I$), and vice versa for the larger resistor. This mimics a car with a much stronger left wheel than the right wheel. The plot below shows the drastic difference in response between the two wheels, and how the wheels behave when slowing to 0 versus speeding up from 0. \n",
    "\n",
    "<img width=\"400px\" src=\"images/example_coarse_data.png\">\n"
   ]
  },
  {
   "cell_type": "code",
   "execution_count": null,
   "metadata": {},
   "outputs": [],
   "source": [
    "import numpy as np\n",
    "import matplotlib.pyplot as plt\n",
    "%matplotlib inline"
   ]
  },
  {
   "cell_type": "code",
   "execution_count": null,
   "metadata": {},
   "outputs": [],
   "source": [
    "with open('data.txt', 'r') as file:\n",
    "    data = []\n",
    "    for line in file.readlines():\n",
    "        if not len(line.strip()) == 0 : \n",
    "            data.append ([int(num) for num in line.strip().split(',')])\n",
    "    data = np.array(data)\n",
    "\n",
    "# compute velocity from distances\n",
    "vleft  = data[:, 1]\n",
    "vright = data[:, 2]\n",
    "u = data[:, 0]    # duty cycle     #####.reshape((-1, 1)) \n",
    "\n",
    "left_des, left_asc = np.array_split(vleft, 2)\n",
    "right_des, right_asc = np.array_split(vright, 2)\n",
    "u_des, u_asc = np.array_split(u, 2)\n",
    "\n",
    "plt.plot(u_des, left_des, 'b-',  u_des, right_des, 'y-')\n",
    "plt.plot(u_asc, left_asc, 'b-o',  u_asc, right_asc, 'y-^')\n",
    "plt.xlabel(\"u (input via PWM)\")\n",
    "plt.ylabel(\"Velocity of Wheels\")\n",
    "labels = (\"left (descending)\", \"right (descending)\",\n",
    "          \"left (ascending)\" , \"right (ascending)\")\n",
    "plt.legend(labels, loc=0)\n",
    "plt.show()\n"
   ]
  },
  {
   "cell_type": "markdown",
   "metadata": {},
   "source": [
    "In real life, the car only has to run within a small range of velocities due to the non-linearity, so we need to collect more samples at each PWM, over a smaller PWM range. However, from the plot above, the simulated data are good enough, and we can skip this step and find a linear approximation for the behavior of the motors directly. \n",
    "\n",
    "Please use the plot you created in the code block above to answer question 6 below."
   ]
  },
  {
   "cell_type": "markdown",
   "metadata": {},
   "source": [
    "## Questions\n",
    "\n",
    "<span style=\"color:#075a04\"> **6. What is the slope of the line under the *right ascending case* from the data or plot above? Hint: Use the print() function to print out the values you need. <span style=\"color:#ba190f\">Enter numerical value with two decimal places (e.g. 3.14).**\n",
    "    \n",
    "< YOU ANSWER ON GRADESCOPE >"
   ]
  },
  {
   "cell_type": "markdown",
   "metadata": {},
   "source": [
    "### 2.3. Least-Squares Regression\n",
    "Now that we have some data, we can try performing least-squares regression.\n",
    "\n",
    "1. Write a function that takes the data as parameters, performs least squares, and extracts the parameters. The function [**np.linalg.lstsq**](https://het.as.utexas.edu/HET/Software/Numpy/reference/generated/numpy.linalg.lstsq.html) and [**np.vstack**](https://het.as.utexas.edu/HET/Software/Numpy/reference/generated/numpy.vstack.html), as well as other NumPy functions will be helpful here. **From the [note](https://www.eecs16b.org/lab/notes/lab_note6.pdf), in our linear regression method, we assume that $v=\\theta u-\\beta$, and the single matrix-vector equation of the form $D_{data}\\vec{p} = \\vec{s}$ is shown as follows. However, the example in the webpage uses $v=\\theta u+\\beta$.** Please think about how to modify the example and use it here.\n",
    "2. Call the function once for each wheel.\n",
    "3. Record the values of $\\theta$ and $\\beta$ for each wheel.\n",
    "\n",
    "<img width=\"400px\" src=\"images/fomular-v2.png\">"
   ]
  },
  {
   "cell_type": "code",
   "execution_count": null,
   "metadata": {},
   "outputs": [],
   "source": [
    "# Write a function that formulates and performs least squares\n",
    "# and returns theta and beta for one wheel\n",
    "def identify_parameters(u, v):\n",
    "    # Returns (theta, beta) for given (u, v)\n",
    "    ####### YOUR CODE STARTS HERE ###############\n",
    "    \n",
    "    return pass\n",
    "    ####### YOUR CODE ENDS HERE #################\n",
    "\n",
    "\n",
    "# extract parameters, call your function here\n",
    "theta_left, beta_left = identify_parameters(u, vleft) # 0, 0\n",
    "theta_right, beta_right = identify_parameters(u, vright) # 0, 0\n",
    "\n",
    "print(\"float theta_left = {:.4g};\".format(theta_left))\n",
    "print(\"float theta_right = {:.4g};\".format(theta_right))\n",
    "print(\"float beta_left = {:.4g};\".format(beta_left))\n",
    "print(\"float beta_right = {:.4g};\".format(beta_right))"
   ]
  },
  {
   "cell_type": "code",
   "execution_count": null,
   "metadata": {
    "scrolled": true
   },
   "outputs": [],
   "source": [
    "# plot results of least squares fit \n",
    "u = u.reshape(-1)\n",
    "vleft_LS = theta_left*u-beta_left\n",
    "vright_LS = theta_right*u-beta_right\n",
    "plt.plot(u, vleft, 'bo',  u, vright, 'yo', u, vleft_LS, 'b-', u, vright_LS, 'y-')\n",
    "plt.xlabel(\"u (input via PWM)\")\n",
    "plt.ylabel(\"Velocity of Wheels\")\n",
    "plt.legend((\"left (sim)\", \"right (sim)\", \"left (regression)\", \"right (regression)\"), loc=0)"
   ]
  },
  {
   "cell_type": "markdown",
   "metadata": {},
   "source": [
    "## Questions\n",
    "\n",
    "<span style=\"color:#075a04\"> **7. What is the $\\theta$ you get for the *left* motor from the least-squares regression? <span style=\"color:#ba190f\">Enter a numerical value with two decimal points (e.g. 3.14).**\n",
    "    \n",
    "< YOU ANSWER ON GRADESCOPE > "
   ]
  },
  {
   "cell_type": "markdown",
   "metadata": {},
   "source": [
    "### 2.4. Evaluate Your Fit"
   ]
  },
  {
   "cell_type": "markdown",
   "metadata": {},
   "source": [
    "To test that we have estimated the parameters accurately, we will simulate the model using the parameters we have found. When we compare the simulated data with the collected data, we expect them to match up pretty well. \n",
    "- **Please visualize or think about why the distance plot is curved the way it is.**"
   ]
  },
  {
   "cell_type": "code",
   "execution_count": null,
   "metadata": {},
   "outputs": [],
   "source": [
    "# least-squares regression\n",
    "def sim(d0, u, theta, beta):\n",
    "    d = np.zeros(len(u)+1)\n",
    "    d[0] = d0\n",
    "    for t in range(len(u)):\n",
    "        d[t+1] = d[t] + theta*u[t] - beta\n",
    "    return d\n",
    "\n",
    "# simulation\n",
    "def get_distances_from_velocities(v):\n",
    "    d = np.zeros(len(u) + 1)\n",
    "    d[0] = 0\n",
    "    for t in range(len(u)):\n",
    "        d[t+1] = d[t] + v[t] \n",
    "    return d\n",
    "        \n",
    "# plot simulated trajectories \n",
    "dleft = get_distances_from_velocities(vleft)\n",
    "dright = get_distances_from_velocities(vright)\n",
    "\n",
    "dleft_regression  = sim(0, u, theta_left, beta_left)\n",
    "dright_regression = sim(0, u, theta_right, beta_right)\n",
    "plt.plot(dleft, 'b.', \n",
    "         dright, 'y.',\n",
    "         dleft_regression, 'b-', \n",
    "         dright_regression, 'y-',\n",
    "        )\n",
    "plt.xlabel(\"time\")\n",
    "plt.ylabel(\"distance\")\n",
    "plt.legend((\"left (sim)\", \"right (sim)\", \"left (regression)\", \"right (regression)\"), loc='upper left')\n"
   ]
  },
  {
   "cell_type": "markdown",
   "metadata": {},
   "source": [
    "## Questions\n",
    "\n",
    "<span style=\"color:#075a04\"> **8. What is the final distance of the *right* motor from the least-squares regression model at the end of the time? Hint: Use the print() function to print out the values you need. <span style=\"color:#ba190f\"> Enter a numerical value with two decimal places (e.g. 3.14).**\n",
    "    \n",
    "< YOU ANSWER ON GRADESCOPE > \n",
    "    "
   ]
  },
  {
   "cell_type": "markdown",
   "metadata": {},
   "source": [
    "<a id='part3'></a>\n",
    "## <span style=\"color:blue\">Part 3: Determining the Operating Point</span>"
   ]
  },
  {
   "cell_type": "markdown",
   "metadata": {},
   "source": [
    "In hands-on lab, each wheel may have a different range of velocities, illustrated here.\n",
    "\n",
    "<img src=\"./images/partial_overlap_lsq.png\">\n"
   ]
  },
  {
   "cell_type": "markdown",
   "metadata": {},
   "source": [
    "In order to drive straight, the car must be operating at a velocity achievable by both wheels. A good choice of target velocity is the midpoint of the overlapping range of velocity. The below cell will calculate this."
   ]
  },
  {
   "cell_type": "code",
   "execution_count": null,
   "metadata": {},
   "outputs": [],
   "source": [
    "min_vel = max(min(vleft_LS), min(vright_LS))\n",
    "max_vel = min(max(vleft_LS), max(vright_LS))\n",
    "print('Velocity range = [{:0.3f}, {:0.3f}]'.format(min_vel, max_vel))\n",
    "midpoint = (min_vel+max_vel)/2\n",
    "print('\\nOperating point:\\nfloat v_star = {:.3f};'.format(midpoint))\n",
    "\n",
    "u = u.reshape(-1)\n",
    "vleft_LS = theta_left*u-beta_left\n",
    "vright_LS = theta_right*u-beta_right\n",
    "plt.plot(u, vleft_LS, 'b-', u, vright_LS, 'y-')\n",
    "for i in (min_vel, max_vel):\n",
    "    plt.plot(u, 0*u + i, 'g-')\n",
    "plt.plot(u, vleft, 'bo',  u, vright, 'yo')\n",
    "plt.xlabel(\"u (input via PWM)\")\n",
    "plt.ylabel(\"Velocity of Wheels\")\n",
    "plt.legend((\"left\", \"right\", \"overlap\"), loc=0)"
   ]
  },
  {
   "cell_type": "markdown",
   "metadata": {},
   "source": [
    "## Questions\n",
    "\n",
    "<span style=\"color:#075a04\"> **9. What is the operating point of velocity you get from the procedure above? <span style=\"color:#ba190f\">Enter a numerical value with two decimal places (e.g. 3.14).**\n",
    "    \n",
    "< YOU ANSWER ON GRADESCOPE > \n",
    "    \n",
    "<span style=\"color:#075a04\"> **10. In order to drive straight, the velocity of the two wheels should be the same. Based on the model you got from least-squares regression, if we want the car to drive straight and u is 100 for the left wheel, what should u of the right wheel be? Hint: Calculate u with $\\theta$ and $\\beta$ you got from Part 2. <span style=\"color:#ba190f\">Enter a numerical value with two decimal places (e.g. 3.14).**\n",
    "    \n",
    "< YOU ANSWER ON GRADESCOPE > \n"
   ]
  },
  {
   "cell_type": "markdown",
   "metadata": {},
   "source": [
    "<span style=\"color:#075a04\"> **11. Please upload two screenshots of your final Tinkercad circuits, including both the circuit and schematic views, to Gradescope.**"
   ]
  },
  {
   "cell_type": "markdown",
   "metadata": {},
   "source": [
    "<a id='part4'></a>\n",
    "# <span style=\"color:#ba190f\">Part 4: CHECKOFF </span> \n",
    "-----\n",
    "\n",
    "### For sim students, submit your answers to Questions 1-10 to the Gradescope assignment \"[Sim] Lab 6: System ID.\" Submit your screenshots for Question 11 to the Gradescope assignment \"[Sim] Lab 6: Tinkercad Circuits.\" Lab 6 is due on Sunday, July 17 at 11:59pm. No late submissions will be accepted.\n",
    "\n",
    "### Make sure your circuits are saved properly in Tinkercad. You will need them in the next project phase!\n",
    "\n",
    "### Remember what each part of your circuit is for by recording this information in a Google doc or somewhere else safe. You will need to write a summary for your final lab report.\n",
    "\n",
    "### Save this notebook somewhere you can access!\n",
    "\n",
    "We recommend making a shared Google Drive with your lab partner, since GitHub can be annoying with Jupyter notebooks. It's good to familiarize yourself with the user interface of Tinkercad and understand the basic functions of these circuits that you have built and analyzed.\n",
    "\n",
    "\n",
    "### Great job finishing 16B Lab 6!\n",
    "\n"
   ]
  }
 ],
 "metadata": {
  "anaconda-cloud": {},
  "kernelspec": {
   "display_name": "Python 3.10.2 64-bit",
   "language": "python",
   "name": "python3"
  },
  "language_info": {
   "codemirror_mode": {
    "name": "ipython",
    "version": 3
   },
   "file_extension": ".py",
   "mimetype": "text/x-python",
   "name": "python",
   "nbconvert_exporter": "python",
   "pygments_lexer": "ipython3",
   "version": "3.10.2"
  },
  "vscode": {
   "interpreter": {
    "hash": "aee8b7b246df8f9039afb4144a1f6fd8d2ca17a180786b69acc140d282b71a49"
   }
  }
 },
 "nbformat": 4,
 "nbformat_minor": 1
}
