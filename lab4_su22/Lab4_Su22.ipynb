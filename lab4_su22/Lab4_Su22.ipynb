{
 "cells": [
  {
   "cell_type": "markdown",
   "metadata": {},
   "source": [
    "# Sim Lab 4: Sensing Part 1\n",
    "### EECS 16B: Designing Information Devices and Systems II, Summer 2022\n",
    "\n",
    "Updated by Noah Lee (2022)\n",
    "\n",
    "leenoahk00@berkeley.edu\n",
    "\n",
    "Updated by Bozhi Yin (2021, 2022)\n",
    "\n",
    "bozhi_yin@berkeley.edu\n",
    "\n",
    "Updated by Zhongkai Wang (2021)\n",
    "\n",
    "Updated by Mia Mirkovic (2020)\n",
    "\n",
    "miamirkovic@berkeley.edu\n",
    "\n",
    "-----"
   ]
  },
  {
   "cell_type": "markdown",
   "metadata": {},
   "source": [
    "## Table of Contents\n",
    "* [Lab 4: Sensing Part 1](#lab4a)\n",
    "    * [Part 0: Introduction](#part0)\n",
    "    * [Part 1: Bass-ic Color Organ](#part1)\n",
    "    * [Part 2: A Treble-some Color Organ](#part2)\n",
    "    * [Part 3: Checkoff](#part3)\n",
    "\n",
    "## <span style=\"color:#ba190f\"> You need to run the python scripts one by one, or errors will show up as they rely on the variables defined above!!\n",
    "## <span style=\"color:#ba190f\"> The speakers (or piezos) in Tinkercad can be loud, so make sure to turn your volume down before starting the simulation.\n",
    "## <span style=\"color:#ba190f\"> DO NOT include units when submitting your answers on Gradescope! ONLY include the numerical value rounded to the number of decimal places specified in each question, in units specified in the question. DO NOT include letters, words, etc. If a question involves entering an answer that is not a numerical value, the format of the answer will be clearly specified in that question."
   ]
  },
  {
   "cell_type": "markdown",
   "metadata": {},
   "source": [
    "## Lab Note\n",
    "- [Lab Note](https://www.eecs16b.org/lab/notes/lab_note4.pdf)\n",
    "\n",
    "Review the lab note. The lab note provides a technical review of the concepts covered in lab as well as theoretical connections. **You should read the lab notes before your lab section.** They serve as a review and will be helpful as a reference during section.\n"
   ]
  },
  {
   "cell_type": "markdown",
   "metadata": {},
   "source": [
    "## Pre-Lab\n",
    "\n",
    "### Complete the pre-lab assignment before doing the lab. For sim students, submit your answers to the Gradescope assignment \"[Sim] Pre-Lab 4: Sensing Part 1.\" Please make sure that you submit to the correct assignment. Pre-Lab 4 is due on Sunday, July 3 at 11:59pm. No late submissions will be accepted.\n"
   ]
  },
  {
   "cell_type": "markdown",
   "metadata": {},
   "source": [
    "<a id='lab4a' ></a>\n",
    "# <span style=\"color:navy\">Lab 4: Sensing Part 1</span>\n",
    "-----\n",
    "<a id='part0'></a>\n",
    "# <span style=\"color:navy\">Part 0: Introduction</span>\n",
    "-----\n",
    "\n",
    "Over the next 2 labs, you will design 4 filters to pass different sections of the audible frequency spectrum to separate LEDs so they will appear to flash in time to the music — in other words, you’ll have made your own color organ! The simulation in Tinkercad becomes super slow when using frequencies larger than 1kHz, so for sim, the bass, midrange, and treble frequency range are defined as follows:\n",
    "\n",
    "\n",
    "| Bass | 1-10Hz \n",
    "| -------- | -------- \n",
    "| **Midrange** | **10-100Hz**\n",
    "| **Treble** | **100-1000Hz**\n",
    "\n",
    "However, we can still light up LEDs and even make sounds with piezos in simulation.\n",
    "\n",
    "A piezo or piezoelectric speaker is a loudspeaker that uses the piezoelectric effect for generating sound. The mechanical motion is created by applying a voltage to a piezoelectric material, and this motion is typically converted into audible sound using diaphragms and resonators. A piezo and its symbol are shown as follows. You can find more information on the piezo in Part 1 of the [lab note](https://drive.google.com/file/d/165KGfX_yAAGK8onZeN1mgz1YeE7uYJHC/view?usp=sharing).\n",
    "\n",
    "\n",
    "\n",
    "<img style=\"width:300px\" src=\"images/SpeakerSymbol.png\">\n",
    "\n"
   ]
  },
  {
   "cell_type": "markdown",
   "metadata": {},
   "source": [
    "<a id='part1'></a>\n",
    "# <span style=\"color:navy\">Part 1: Bass-ic Color Organ</span>\n",
    "-----\n",
    "\n",
    "### 1.0. Low Pass Filter\n",
    "\n",
    "**Please read Parts 2 and 4 of the [lab note](https://drive.google.com/file/d/165KGfX_yAAGK8onZeN1mgz1YeE7uYJHC/view?usp=sharing).**"
   ]
  },
  {
   "cell_type": "markdown",
   "metadata": {},
   "source": [
    "Consider the following low-pass filter with a resistor and a capacitor. As we choose a $20k\\Omega$ resistor, please calculate capacitor value such that your low-pass cutoff frequency (or corner frequency) $f_c$ is **10Hz**. Put the capacitance with two decimal places in uF (e.g. 3.14).\n",
    "\n",
    "\n",
    "<img style=\"width:450px\" src=\"images/low_pass_calculation.png\">\n",
    "\n",
    "When designing filters, it's helpful to visualize how the frequency response looks. Replace the **ellipsis** for the variable C1 in the following code block with the capacitance you calculated to get the desired frequency response."
   ]
  },
  {
   "cell_type": "code",
   "execution_count": 3,
   "metadata": {},
   "outputs": [],
   "source": [
    "import numpy as np\n",
    "import matplotlib.pyplot as plt\n",
    "from pylab import * \n",
    "%matplotlib inline\n",
    "\n",
    "# frequency range for plot\n",
    "lp_freq = [1, 2, 3, 4, 6, 8, 10, 15, 20, 30, 40, 60, 80, 100, 150, 200, 300, 400, 600, 800, 1000] # in Hz\n",
    "\n",
    "R1 = 20.0e3 # in Ohms\n",
    "C1 =    # <--- Fill in the capacitance you calculated here\n"
   ]
  },
  {
   "cell_type": "markdown",
   "metadata": {},
   "source": [
    "Now, replace the **ellipsis** with the formula for the low-pass cutoff frequency in terms of R1 and C1"
   ]
  },
  {
   "cell_type": "code",
   "execution_count": 8,
   "metadata": {},
   "outputs": [],
   "source": [
    "lp_fc = ... # <--- Fill in with lp_fc formula and aim for a low-pass cutoff frequecy close to 10Hz"
   ]
  },
  {
   "cell_type": "code",
   "execution_count": 1,
   "metadata": {},
   "outputs": [
    {
     "name": "stdout",
     "output_type": "stream",
     "text": [
      "Low pass filter\n",
      "===============\n"
     ]
    },
    {
     "ename": "NameError",
     "evalue": "name 'R1' is not defined",
     "output_type": "error",
     "traceback": [
      "\u001b[1;31m---------------------------------------------------------------------------\u001b[0m",
      "\u001b[1;31mNameError\u001b[0m                                 Traceback (most recent call last)",
      "\u001b[1;32m<ipython-input-1-021a35e83754>\u001b[0m in \u001b[0;36m<module>\u001b[1;34m\u001b[0m\n\u001b[0;32m      1\u001b[0m \u001b[0mprint\u001b[0m\u001b[1;33m(\u001b[0m\u001b[1;34m\"Low pass filter\"\u001b[0m\u001b[1;33m)\u001b[0m\u001b[1;33m\u001b[0m\u001b[1;33m\u001b[0m\u001b[0m\n\u001b[0;32m      2\u001b[0m \u001b[0mprint\u001b[0m\u001b[1;33m(\u001b[0m\u001b[1;34m\"===============\"\u001b[0m\u001b[1;33m)\u001b[0m\u001b[1;33m\u001b[0m\u001b[1;33m\u001b[0m\u001b[0m\n\u001b[1;32m----> 3\u001b[1;33m \u001b[0mprint\u001b[0m\u001b[1;33m(\u001b[0m\u001b[1;34m\"Resistor: {} ohms\"\u001b[0m\u001b[1;33m.\u001b[0m\u001b[0mformat\u001b[0m\u001b[1;33m(\u001b[0m\u001b[0mR1\u001b[0m\u001b[1;33m)\u001b[0m\u001b[1;33m)\u001b[0m\u001b[1;33m\u001b[0m\u001b[1;33m\u001b[0m\u001b[0m\n\u001b[0m\u001b[0;32m      4\u001b[0m \u001b[0mprint\u001b[0m\u001b[1;33m(\u001b[0m\u001b[1;34m\"Capacitor: {} farads\"\u001b[0m\u001b[1;33m.\u001b[0m\u001b[0mformat\u001b[0m\u001b[1;33m(\u001b[0m\u001b[0mC1\u001b[0m\u001b[1;33m)\u001b[0m\u001b[1;33m)\u001b[0m\u001b[1;33m\u001b[0m\u001b[1;33m\u001b[0m\u001b[0m\n\u001b[0;32m      5\u001b[0m \u001b[0mprint\u001b[0m\u001b[1;33m(\u001b[0m\u001b[1;34m\"Cutoff frequency: {} Hz\"\u001b[0m\u001b[1;33m.\u001b[0m\u001b[0mformat\u001b[0m\u001b[1;33m(\u001b[0m\u001b[0mlp_fc\u001b[0m\u001b[1;33m)\u001b[0m\u001b[1;33m)\u001b[0m\u001b[1;33m\u001b[0m\u001b[1;33m\u001b[0m\u001b[0m\n",
      "\u001b[1;31mNameError\u001b[0m: name 'R1' is not defined"
     ]
    }
   ],
   "source": [
    "print(\"Low pass filter\")\n",
    "print(\"===============\")\n",
    "print(\"Resistor: {} ohms\".format(R1))\n",
    "print(\"Capacitor: {} farads\".format(C1))\n",
    "print(\"Cutoff frequency: {} Hz\".format(lp_fc))\n",
    "\n",
    "lp_gain = 1/(np.sqrt(1+((np.array(lp_freq)/(lp_fc))**2)))\n",
    "\n",
    "plt.plot(lp_freq, lp_gain)\n",
    "plt.xlabel(\"Frequency (Hz)\")\n",
    "plt.ylabel(\"Output Voltage/Input Voltage\")\n",
    "plt.title(\"|h(jw)| vs Frequency (Low-Pass)\")\n",
    "plt.legend([\"Low-Pass\"])\n",
    "plt.show()\n",
    "\n",
    "plt.loglog(lp_freq, lp_gain)\n",
    "plt.xlabel(\"Frequency (Hz)\")\n",
    "plt.ylabel(\"Output Voltage/Input Voltage\")\n",
    "plt.title(\"log-|h(jw)| vs log-Frequency (Low-Pass)\")\n",
    "plt.legend([\"Low-Pass\"])\n",
    "plt.show()"
   ]
  },
  {
   "cell_type": "markdown",
   "metadata": {},
   "source": [
    "## Questions\n",
    "\n",
    "<span style=\"color:#075a04\"> **1. In the low-pass filter we implemented, what is the capacitance you used to get the 10 Hz cutoff frequency $f_c$. <span style=\"color:#ba190f\">Enter a numerical value with two decimal places in $\\mu F$ (e.g. 3.14).**\n",
    "\n",
    "< YOUR ANSWER HERE >\n",
    "\n",
    "<span style=\"color:#075a04\"> **2. What is the transfer function's magnitude at the cutoff frequency (i.e. 10Hz) from the calculation above? <span style=\"color:#ba190f\">Enter a numerical value with two decimal places (e.g. 3.14).** Hint: You can print variable `lp_gain` to find $|H(j\\omega)|$ at different frequencies.\n",
    "\n",
    "< YOUR ANSWER HERE >\n"
   ]
  },
  {
   "cell_type": "markdown",
   "metadata": {},
   "source": [
    "## Tinkercad\n",
    "---\n",
    "\n",
    "### (Virtual) Materials\n",
    "\n",
    "- Breadboard\n",
    "- Power Supplies\n",
    "- Fuction generator\n",
    "- $20k \\Omega$ resistors\n",
    "- Capacitors\n",
    "- LM741 Opamp\n",
    "- Arduinos (similar to the MSP430 Launchpad)\n",
    "- Multimeter\n",
    "- Piezos (produce sound of sinusoidal signals)\n",
    "- $100 \\Omega$ resistors\n",
    "- LEDs\n",
    "\n",
    "### 1.1. Piezo (Tinkercad)\n",
    "\n",
    "As mentioned in the lab note, we will treat the piezo as a resistor for calculations in this lab.\n",
    "Now, open the starter circuit, which can be found at: [Lab 4 Starter Circuit](https://www.tinkercad.com/things/42MnvQskuNn?sharecode=rN06R0Oi_O8k_81ra1CkW9xyCxrnR1xuKj6Kg8KFc7s). \n",
    "\n",
    "<span style=\"color:#ba190f\">**NOTE: After measuring the resistance, make sure to disconnect or delete the multimeter. Leaving the multimeter connected can slow down the simulation in later parts of this lab!**\n",
    "\n",
    "\n",
    "## Questions\n",
    "\n",
    "<span style=\"color:#075a04\"> **3. What's the resistance of the piezo? Use the multimeter to measure the resistance. <span style=\"color:#ba190f\">Enter a numerical value with two decimal places in $\\Omega$(e.g. 3.14).**\n",
    "\n",
    "< YOUR ANSWER HERE >\n",
    "\n",
    "### 1.2. Build the Low-Pass Filter (Tinkercad)\n",
    "\n",
    "As you will build two filters together on one breadboard, we provide you two opamps. In this part, please use the opamp at the **left side** to build the low-pass filter following the circuit diagram below. \n",
    "\n",
    "<img style=\"width:650px\" src=\"images/low_pass.png\">\n",
    "\n",
    "Unlike previous labs, we will use three power rails (postive supply, negative supply and ground) to make the Tinkercad circuit neat. The positive supply and negative supply are labeled as +Vdd and -Vss in the previous circuit diagram. These power rails are shown as below on Tinkercad.\n",
    "\n",
    "<img style=\"width:850px\" src=\"images/TinkerCad.png\">\n",
    "\n",
    "1. Use the $20k\\Omega$ resistor and the capacitor calculated in Question 1.\n",
    "2. Connect the input of the low-pass filter to the positive terminal of the function generator (located at the top left corner of the circuit).\n",
    "3. Connect the output of the low-pass filter to the **A0 pin** of the Arduino board.\n",
    "4. The pinout of Tinkercad's LM741 op-amp is given as reference below. Ignore NC and Offset Null.\n",
    "    - Do not forget to connect +Vdd and -Vss for the opamp. As the voltage range of the input signal is from -2V to 2V, we use 2.5V for +Vdd and **-2.5V for -Vss** to avoid the clip. For the same reason, the GND of Arduino was also connected to -2.5V rail (-Vss rail) rather than the Gnd rail.\n",
    "5. Connect piezo's `positive` pin to opamp output, and the `negative` pin to the ground rail. The piezo will produce sound based on the voltage and frequency of the signal between output and ground.\n",
    "6. The resistor and LED have already been connected to pin 6 of the Arduino board, whose output voltage *should* equal the peak-to-peak amplitude of the opamp output.\n",
    "\n",
    "<img style=\"width:400px\" src=\"images/LM741_pinout.png\">"
   ]
  },
  {
   "cell_type": "markdown",
   "metadata": {},
   "source": [
    "### 1.3. Run the Low-Pass Filter and Plot the Frequency Response (Tinkercad)\n",
    "\n",
    "As it is hard to read the waveform amplitude from oscilloscope, we use the Arduino to read the filtered output signal and plot it with the serial plotter. In this way, we make an oscilloscope by ourselves.\n",
    "\n",
    "1. Open the Tinkercad code by clicking on `Code` (make sure you're on Text, not Block) and skim the code. Try to understand how it works.\n",
    "    - The oscilloscopes are not provided to accelerate the simulation, but you can add them by yourselves to check the waveforms at different nodes.\n",
    "    \n",
    "    \n",
    "2. For the function generator, double check that the **Amplitude** is **4V**, the **DC Offset** is **0V**, and the **Function** is **Sine**.\n",
    "    - **Use four frequencies (1Hz, 10Hz, 100Hz, 1000Hz) for the function generator.**\n",
    "    \n",
    "\n",
    "    \n",
    "    \n",
    "3. **Hit `Start Simulation`.** \n",
    "4. Open the serial plotter by clicking on `Code > Serial Monitor > Graph`. You may need to wait for a while to see the waveform (the waiting time will be longer when the frequency becomes higher). *Does the output look like what you expect?*\n",
    "    - You may find that the offset voltage of the serial monitor waveform is 2.5V. The reason is that the Arduino GND is connected to -Vss supply instead of GND.\n",
    "    - You can change the frequency of function generator while in simulation! You will see the transition behavior between two frequencies like below!\n",
    "    \n",
    "    \n",
    "5. By reading the numbers in the serial monitor, find the maximum voltage and minimum voltage of low-pass output. \n",
    "\n",
    "    - **Record the peak-to-peak amplitude by getting the difference of the maximum and minimum voltages (after the waveform stabilizes). Replace the ellipsis for the variable lp_vpp_sim in the following with these peak-to-peak amplitudes.**\n",
    "    \n",
    "    - <span style=\"color:#ba190f\">**NOTE: When switching between frequencies, make sure to let the signal \"stablize\" by waiting until the center of the signal stays the same. This is to get an accurate reading of the *Amplitude* of the signal**\n",
    "    \n",
    "    \n",
    "6. Run the code and plot the waveforms to see the frequency responses of the low-pass filter. In one plot, we draw the frequency response in the log-log plot to display the transfer function's magnitude and frequency over a very wide range of values in a compact way. You can look at [this website](https://www.wikihow.com/Read-a-Logarithmic-Scale) to review how to read a log-log plot. *Compare the simulation and calculation results.*\n",
    "\n",
    "    - In the code, **the transfer function's magnitude is defined by the ratio of the peak-to-peak amplitudes between the output and input (in our case, input peak-to-peak amplitude is 4V).**\n",
    "\n",
    "$$|H(jw)| = \\frac{V_{out,pk-pk}}{V_{in,pk-pk}}$$\n",
    "\n",
    "<img style=\"width:650px\" src=\"images/transition_behavior.png\">"
   ]
  },
  {
   "cell_type": "code",
   "execution_count": null,
   "metadata": {},
   "outputs": [],
   "source": [
    "# Record the peak-to-peak amplitude of the output sinusoid at each given frequency\n",
    "lp_freq_sim = [1, 10, 100, 1000] # in Hz\n",
    "\n",
    "# Replace the ellipsis with the peak-to-peak amplitudes in your simulation at each frequencies above\n",
    "# Keep two decimal places (e.g. 3.14), and use *comma* to seperate the numbers\n",
    "# You should have 4 numbers here, e.g. [0.00, 1.00, 2.00, 4.00]\n",
    "lp_vpp_sim = [...] # <---- read out from simulation results\n",
    "\n",
    "# Calculate the transfer function's magnitude by dividing the output peak-to-peak voltage by the input peak-to-peak voltage\n",
    "lp_gain_sim = np.array(lp_vpp_sim)/4\n",
    "\n",
    "plt.plot(lp_freq, lp_gain)\n",
    "plt.plot(lp_freq_sim, lp_gain_sim, 'o', markersize=8)\n",
    "plt.xlabel(\"Frequency (Hz)\")\n",
    "plt.ylabel(\"Vout,pp / Vin,pp\")\n",
    "plt.title(\"|h(jw)| vs Frequency\")\n",
    "plt.legend([\"Low-Pass\", \"Low-Pass Tinkercad\"])\n",
    "plt.show()\n",
    "\n",
    "plt.loglog(lp_freq, lp_gain)\n",
    "plt.loglog(lp_freq_sim, lp_gain_sim, 'o', markersize=8)\n",
    "plt.xlabel(\"Frequency (Hz)\")\n",
    "plt.ylabel(\"Vout,pp / Vin,pp\")\n",
    "plt.title(\"log-|h(jw)| vs log-Frequency\")\n",
    "plt.legend([\"Low-Pass\", \"Low-Pass Tinkercad\"])\n",
    "plt.show()"
   ]
  },
  {
   "cell_type": "markdown",
   "metadata": {},
   "source": [
    "## Questions\n",
    "\n",
    "<span style=\"color:#075a04\"> **4. What is the transfer function's magnitude you get at 1Hz in the simulation? The transfer function's magnitude is defined by the ratio of the peak-to-peak amplitudes between the output and input (input peak-to-peak amplitude is 4V). <span style=\"color:#ba190f\">Enter a numerical value with two decimal places (e.g. 3.14).**\n",
    "\n",
    "< YOUR ANSWER HERE >\n",
    "\n",
    "<span style=\"color:#075a04\"> **5. How does the LED (connected to pin 6) light change when you increase the frequency (make sure that you stop and rerun the simulation, when you change to a new frequency)? The light:**\n",
    "\n",
    "- A. becomes dimmer\n",
    "- B. becomes brighter\n",
    "- C. is on, but does not change\n",
    "- D. is always off\n",
    "\n",
    "< YOUR ANSWER HERE >\n",
    "\n",
    "<span style=\"color:#075a04\"> **6. Consider the edge case when a DC signal is applied to the input of the low pass filter (i.e. directly connect a power supply to it). Which of the following statements is true? Choose all the answers that are correct.**\n",
    "    \n",
    "<span style=\"color:#ba190f\"> **Hint: What is the frequency of a DC signal?**\n",
    "\n",
    "- A. The DC signal does not pass through the low pass filter as the peak-to-peak amplitude at filter output is zero.\n",
    "- B. The peak-to-peak amplitude at the output is zero, because we applied a DC signal at input. However, this DC signal still passes through the low pass filter.\n",
    "- C. The DC signal passes through the low pass filter, because when the input DC voltage changes, the output voltage also changes accordingly.\n",
    "- D. None of above is correct.\n",
    "\n",
    "< YOUR ANSWER HERE >\n"
   ]
  },
  {
   "cell_type": "markdown",
   "metadata": {},
   "source": [
    "\n",
    "<a id='part2'></a>\n",
    "# <span style=\"color:navy\">Part 2: A *Treble*-some Color Organ</span>\n",
    "\n",
    "-----\n",
    "\n",
    "## 2.0. High-Pass Filter\n",
    "\n",
    "**Please read Parts 3 and 4 of the [lab note](https://drive.google.com/file/d/165KGfX_yAAGK8onZeN1mgz1YeE7uYJHC/view?usp=sharing).**"
   ]
  },
  {
   "cell_type": "markdown",
   "metadata": {},
   "source": [
    "Now consider the following high-pass filter with a resistor and a capacitor. Similarly, as we choose a $20k\\Omega$ resistor for you, please calculate capacitor value such that your high-pass cutoff frequency $f_c$ is **100Hz**. Put the capacitance with two decimal places in uF (e.g. 3.14).\n",
    "\n",
    "\n",
    "<img style=\"width:200px\" src=\"images/high_pass_calculation.png\">\n",
    "\n",
    "When designing filters, it's helpful to visualize how the frequency response looks. Replace the **ellipsis** for the variable C2 in the following code block with the capacitance you calculated to get the desired frequency response."
   ]
  },
  {
   "cell_type": "code",
   "execution_count": null,
   "metadata": {},
   "outputs": [],
   "source": [
    "# frequency range for plot\n",
    "hp_freq = [1, 2, 3, 4, 6, 8, 10, 15, 20, 30, 40, 60, 80, 100, 150, 200, 300, 400, 600, 800, 1000] # in Hz\n",
    "\n",
    "R2 = 20.0e3 # in Ohms\n",
    "C2 = ... # <--- Fill in the capacitance you calculated here, in uF\n"
   ]
  },
  {
   "cell_type": "markdown",
   "metadata": {},
   "source": [
    "Now, replace the **ellipsis** with the formula for the high-pass cutoff frequency in terms of R2 and C2"
   ]
  },
  {
   "cell_type": "code",
   "execution_count": 4,
   "metadata": {},
   "outputs": [
    {
     "ename": "SyntaxError",
     "evalue": "invalid syntax (<ipython-input-4-b36b83738727>, line 1)",
     "output_type": "error",
     "traceback": [
      "\u001b[1;36m  File \u001b[1;32m\"<ipython-input-4-b36b83738727>\"\u001b[1;36m, line \u001b[1;32m1\u001b[0m\n\u001b[1;33m    hp_fc = # <--- Fill in with hp_fc formula and aim for a high-pass cutoff frequecy close to 100Hz\u001b[0m\n\u001b[1;37m            ^\u001b[0m\n\u001b[1;31mSyntaxError\u001b[0m\u001b[1;31m:\u001b[0m invalid syntax\n"
     ]
    }
   ],
   "source": [
    "hp_fc = # <--- Fill in with hp_fc formula and aim for a high-pass cutoff frequecy close to 100Hz"
   ]
  },
  {
   "cell_type": "code",
   "execution_count": null,
   "metadata": {},
   "outputs": [],
   "source": [
    "print(\"High pass filter\")\n",
    "print(\"===============\")\n",
    "print(\"Resistor: {} ohms\".format(R2))\n",
    "print(\"Capacitor: {} farads\".format(C2))\n",
    "print(\"Cutoff frequency: {} Hz\".format(hp_fc))\n",
    "\n",
    "hp_gain = (np.array(hp_freq)/hp_fc)/(np.sqrt(1 + (np.array(hp_freq)/hp_fc)**2))\n",
    "\n",
    "plt.xlabel(\"Frequency (Hz)\")\n",
    "plt.ylabel(\"Output Voltage/Input Voltage\")\n",
    "plt.title(\"|h(jw)| vs Frequency\")\n",
    "plt.plot(lp_freq, lp_gain)\n",
    "plt.plot(hp_freq, hp_gain)\n",
    "plt.legend([\"Low-Pass\", \"High-Pass\"])\n",
    "plt.show()\n",
    "\n",
    "plt.xlabel(\"Frequency (Hz)\")\n",
    "plt.ylabel(\"Output Voltage/Input Voltage\")\n",
    "plt.title(\"log-|h(jw)| vs log-Frequency\")\n",
    "plt.loglog(lp_freq, lp_gain)\n",
    "plt.loglog(hp_freq, hp_gain)\n",
    "plt.legend([\"Low-Pass\", \"High-Pass\"])\n",
    "plt.show()\n"
   ]
  },
  {
   "cell_type": "markdown",
   "metadata": {},
   "source": [
    "## Questions\n",
    "\n",
    "<span style=\"color:#075a04\"> **7. In the high-pass filter we implemented, what is the capacitor value you used to get the 100 Hz cutoff frequency $f_c$? <span style=\"color:#ba190f\">Enter a numerical value with two decimal places in $\\mu F$ (e.g. 3.14).**\n",
    "\n",
    "< YOUR ANSWER HERE >\n",
    "\n",
    "<span style=\"color:#075a04\"> **8. What is the transfer function's magnitude at 1kHz from the graph above? <span style=\"color:#ba190f\">Enter a numerical value with two decimal places (e.g. 3.14).**\n",
    "\n",
    "< YOUR ANSWER HERE >\n",
    "    \n",
    "<span style=\"color:#075a04\"> **9. What's the transfer function's magnitude at 1kHz in the high pass filter above if it directly drives piezo like the following. Hint: Derive the new transfer function with the piezo resistance you got from question 3, and then calculate its magnitude. C2 should be the value you got from question 7. <span style=\"color:#ba190f\">Enter a numerical value with two decimal places (e.g. 3.14).**\n",
    "\n",
    "<img style=\"width:400px\" src=\"images/high_pass_wi_piezo.png\">\n",
    "    \n",
    "< YOUR ANSWER HERE > \n",
    "\n",
    "  "
   ]
  },
  {
   "cell_type": "markdown",
   "metadata": {},
   "source": [
    "## Tinkercad\n",
    "---\n",
    "\n",
    "### (Virtual) Materials\n",
    "\n",
    "- Same as Part 1\n",
    "\n",
    "\n",
    "### 2.1. Build the High-Pass Filter (Tinkercad)\n",
    "\n",
    "**Keep all the stuff you had in the low-pass filter** and continue with the circuit you built in Part 1, use the opamp at the **right side** to build the high-pass filter following the circuit diagram below.\n",
    "\n",
    "<img style=\"width:650px\" src=\"images/high_pass.png\">\n",
    "\n",
    "1. Use $20k\\Omega$ resistor and the capacitor calculated in Question 7.\n",
    "2. Connect the input of the high-pass filter to the positive terminal of the function generator.\n",
    "    - The function generator should connect to both the low-pass filter and high-pass filter now.\n",
    "3. Connect the output of the high-pass filter to the **A1 pin** of the Arduino board.\n",
    "4. The resistor and LED have already been connected to pin 5 of the Arduino board, whose output voltage *should* equal to the peak-to-peak amplitude of the Opamp output."
   ]
  },
  {
   "cell_type": "markdown",
   "metadata": {},
   "source": [
    "### 2.2. Run the High-Pass Filter and Plot the Frequency Response (Tinkercad)\n",
    "\n",
    "Now we have both the low-pass filter and high-pass filter on the Tinkercad breadboard.\n",
    "\n",
    "1. For the function generator, double check that the **Amplitude** is **4V**, the **DC Offset** is **0V**, and the **Function** is **Sine**.\n",
    "    - **Use four frequencies (1Hz, 10Hz, 100Hz, 1000Hz) for the function generator.**\n",
    "    \n",
    "    \n",
    "2. By `commenting out line 56 and uncommenting line 62`, you can compare the output waveform of the low-pass filter and high-pass filter using the serial monitor. \n",
    "3. **Hit `Start Simulation`.** \n",
    "4. Open the serial plotter by clicking on `Code > Serial Monitor > Graph`. You might need to wait for a while to see the waveform. \n",
    "5. Now `comment out line 62 and uncomment line 59`, rerun the simulaton to see the high-pass filter output only. \n",
    "    - **Record the peak-to-peak amplitude at different frequencies. Replace the ellipsis for the variable hp_vpp_sim in the following with these peak-to-peak amplitudes.** *Please think what has changed here from the low-pass filter case?*  \n",
    "    \n",
    "    \n",
    "6. Run the following code and plot the waveforms. We draw frequency responses of both the low-pass filter and the high-pass filter in one plot. *Compare the simulation and calculation results.*"
   ]
  },
  {
   "cell_type": "code",
   "execution_count": null,
   "metadata": {},
   "outputs": [],
   "source": [
    "# Record the amplitude of the output sinusoid at each given frequency\n",
    "hp_freq_sim = [1, 10, 100, 1000] # in Hz\n",
    "\n",
    "# Replace the ellipsis with the peak-to-peak amplitudes in your simulation at each frequencies above\n",
    "# Keep two decimal places (e.g. 3.14), and use *comma* to seperate the numbers\n",
    "# You should have 4 numbers here, e.g. [0.00, 1.00, 2.00, 3.00]\n",
    "hp_vpp_sim = [...] # <---- read out from simulation results\n",
    "\n",
    "# Calculate the transfer function's magnitude by divide the output peak-to-peak voltage to input peak-to-peak voltage\n",
    "hp_gain_sim = np.array(hp_vpp_sim)/4\n",
    "\n",
    "\n",
    "plt.plot(lp_freq, lp_gain)\n",
    "plt.plot(lp_freq_sim, lp_gain_sim, 'o', markersize=8)\n",
    "plt.plot(hp_freq, hp_gain)\n",
    "plt.plot(hp_freq_sim, hp_gain_sim, 'o', markersize=8)\n",
    "plt.xlabel(\"Frequency (Hz)\")\n",
    "plt.ylabel(\"Output Voltage/Input Voltage\")\n",
    "plt.title(\"|h(jw)| vs Frequency\")\n",
    "plt.legend([\"Low-Pass\", \"Low-Pass Tinkercad\", \"High-Pass\", \"High-Pass Tinkercad\"])\n",
    "plt.show()\n",
    "\n",
    "plt.loglog(lp_freq, lp_gain)\n",
    "plt.loglog(lp_freq_sim, lp_gain_sim, 'o', markersize=8)\n",
    "plt.loglog(hp_freq, hp_gain)\n",
    "plt.loglog(hp_freq_sim, hp_gain_sim, 'o', markersize=8)\n",
    "plt.xlabel(\"Frequency (Hz)\")\n",
    "plt.ylabel(\"Output Voltage/Input Voltage\")\n",
    "plt.title(\"log-|h(jw)| vs log-Frequency\")\n",
    "plt.legend([\"Low-Pass\", \"Low-Pass Tinkercad\", \"High-Pass\", \"High-Pass Tinkercad\"])\n",
    "plt.show()"
   ]
  },
  {
   "cell_type": "markdown",
   "metadata": {},
   "source": [
    "## Questions\n",
    "\n",
    "<span style=\"color:#075a04\"> **10. What is the transfer function's magnitude you get at 1kHz for the high-pass filter in the simulation? The transfer function's magnitude is defined by the ratio of the peak-to-peak amplitudes between the output and input (input peak-to-peak amplitude is 4V).  <span style=\"color:#ba190f\">Enter a numerical value with two decimal places in V (e.g. 3.14).**\n",
    "\n",
    "< YOUR ANSWER HERE >\n",
    "    \n",
    "<span style=\"color:#075a04\"> **11. According to your answer to questions 8, 9, and 10, what is the purpose of the buffer in the above circuit? Choose all the answers that are correct.**\n",
    "\n",
    "- A. Increases the amplitude of the signal by providing gain larger than 1.\n",
    "- B. Avoids the piezo loading high-pass filter and then changing its transfer function.\n",
    "- C. Changes the power domain of the output signal from 5V to 3.3V for Arduino to work properly.\n",
    "- D. Has no function.\n",
    "\n",
    "< YOUR ANSWER HERE >\n",
    "\n",
    "<span style=\"color:#075a04\"> **12. From the plots above and calculations, at 50Hz, which $|H(jw)|$ is larger, the low-pass filter or high-pass filter? (It's easier to look at the log-log plot!)**\n",
    "\n",
    "- A. Low-pass filter\n",
    "- B. High-pass filter\n",
    "- C. They are same\n",
    "\n",
    "< YOUR ANSWER HERE >\n",
    "\n",
    "<span style=\"color:#075a04\"> **13. How does the LED (connected to pin 5) light change when you increase the frequency (make sure that you stop and rerun the simulation, when you change to a new frequency)? The light:**\n",
    "\n",
    "- A. becomes dimmer\n",
    "- B. becomes brighter\n",
    "- C. is on, but does not change\n",
    "- D. is always off\n",
    "\n",
    "< YOUR ANSWER HERE >\n",
    "\n",
    "<span style=\"color:#075a04\"> **14. Consider the edge case again when we apply a DC signal to the input of the high pass filter (i.e. directly connect a power supply to it). Which of the following statements is true? Please choose all the answers that are correct.**\n",
    "\n",
    "- A. The DC signal does not pass through the high pass filter as the filter output is independent of the input DC voltage.\n",
    "- B. The peak-to-peak amplitude at the output is zero, because we applied a DC signal at input. However, this DC signal still passes through the high pass filter.\n",
    "- C. The DC signal passes through the high pass filter as when the input DC voltage changes, the output voltage also changes accordingly.\n",
    "- D. None of above is correct.\n",
    "\n",
    "< YOUR ANSWER HERE >\n",
    "\n",
    "    \n",
    "<span style=\"color:#075a04\"> **15. Please upload two screenshots of your final Tinkercad circuits, including both the circuit and schematic views, to Gradescope. See the Getting Started with Tinkercad Guide for instructions on how to display the schematic view.**\n"
   ]
  },
  {
   "cell_type": "markdown",
   "metadata": {},
   "source": [
    "<a id='part3'></a>\n",
    "# <span style=\"color:#ba190f\">Part 3: CHECKOFF </span> \n",
    "-----\n",
    "### For sim students, submit your answers to Questions 1-14 to the Gradescope assignment \"[Sim] Lab 4: Sensing Part 1.\" Submit your screenshots for Question 15 to the Gradescope assignment \"[Sim] Lab 4: Tinkercad Circuits.\" Lab 4 is due on Sunday, July 10 at 11:59pm. No late submissions will be accepted.\n",
    "\n",
    "\n",
    "### Save this notebook somewhere you can access! \n",
    "\n",
    "We recommend making a shared Google Drive with your lab partner, since GitHub can be annoying with Jupyter notebooks. It's good to familiarize yourself with the user interface of Tinkercad and understand the basic functions of these circuits that you have built and analyzed.\n",
    "\n",
    "\n",
    "### Great job finishing 16B Lab 4!"
   ]
  },
  {
   "cell_type": "code",
   "execution_count": null,
   "metadata": {},
   "outputs": [],
   "source": []
  }
 ],
 "metadata": {
  "anaconda-cloud": {},
  "kernelspec": {
   "display_name": "Python 3",
   "language": "python",
   "name": "python3"
  },
  "language_info": {
   "codemirror_mode": {
    "name": "ipython",
    "version": 3
   },
   "file_extension": ".py",
   "mimetype": "text/x-python",
   "name": "python",
   "nbconvert_exporter": "python",
   "pygments_lexer": "ipython3",
   "version": "3.9.5"
  }
 },
 "nbformat": 4,
 "nbformat_minor": 1
}
