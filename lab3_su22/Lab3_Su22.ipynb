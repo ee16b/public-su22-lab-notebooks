{
 "cells": [
  {
   "cell_type": "markdown",
   "metadata": {},
   "source": [
    "# Sim Lab 3: Motion\n",
    "### EECS 16B: Designing Information Devices and Systems II, Summer 2022\n",
    "\n",
    "Updated by Noah Lee (2022)\n",
    "\n",
    "leenoahk00@berkeley.edu\n",
    "\n",
    "Updated by Yi-Hsuan Shih (2021, 2022)\n",
    "\n",
    "yihsuan@berkeley.edu\n",
    "\n",
    "Updated by Hossein Najafi (2021)\n",
    "\n",
    "hossein_najafi@berkeley.edu\n",
    "\n",
    "Updated by Mia Mirkovic, Rafael Calleja (2020)\n",
    "\n",
    "miamirkovic@berkeley.edu, rafael.calleja@berkeley.edu\n",
    "\n",
    "Updated by Peter Schafhalter and Zain Zaidi (2019)\n",
    "\n",
    "pschafhalter@berkeley.edu, zzaidi@berkeley.edu\n",
    "\n",
    "Written by Nathaniel Mailoa and Emily Naviasky (2016)\n",
    "\n",
    "nmailoa@berkeley.edu, enaviasky@berkeley.edu\n",
    "\n",
    "----"
   ]
  },
  {
   "cell_type": "markdown",
   "metadata": {},
   "source": [
    "## <span style=\"color:#ba190f\"> DO NOT include units when submitting your answers on Gradescope! ONLY include the numerical value rounded to the number of decimal places specified in each question, in units specified in the question. DO NOT include letters, words, etc. If a question involves entering an answer that is not a numerical value, the format of the answer will be clearly specified in that question."
   ]
  },
  {
   "cell_type": "markdown",
   "metadata": {},
   "source": [
    "\n",
    "\n",
    "<a id='part0'></a>\n",
    "# <span style=\"color:navy\">Part 0: Introduction</span>\n",
    "-----\n",
    "For the rest of this semester you will be designing S1XT33N, a mischievous little robot who might just do what\n",
    "you want - if you design it correctly. Our end goal is to have S1XT33N listen to your voice commands and execute\n",
    "the corresponding drive command. In this lab, you will build S1XT33N’s legs: you will build the motor\n",
    "control circuits that enable S1XT33N to move around (the “legs”). \n",
    "\n",
    "## Materials:\n",
    "- [Lab note](https://drive.google.com/file/d/1SigTqJDvFqmkmn-5kiqWy4W_SyUGvg8c/view?usp=sharing)\n",
    "\n",
    "- Optional: [Extra lab note](https://drive.google.com/file/d/1IRKpIkwJI49MmD_9DgQAIHXqby0rD9lw/view?usp=sharing)\n",
    "\n",
    "Review the lab note and the optional extra lab note if you are interested in learning more about BJT and diodes. The lab note provides a technical review of the concepts covered in lab as well as theoretical connections. **You should read the lab notes before your lab section.** They serve as a review and will be helpful as a reference during section. \n"
   ]
  },
  {
   "cell_type": "markdown",
   "metadata": {},
   "source": [
    "## Pre-Lab\n",
    "\n",
    "### Complete the pre-lab assignment before doing the lab. For sim students, submit your answers to the Gradescope assignment \"[Sim] Pre-Lab 3: Motors and Regulators.\" Please make sure that you submit to the correct assignment. Pre-Lab 3 is due on Wednesday, June 29 at 11:59pm. No late submissions will be accepted.\n"
   ]
  },
  {
   "cell_type": "markdown",
   "metadata": {},
   "source": [
    "\n",
    "# Table of Contents\n",
    "\n",
    "* [Part 1: Building the power voltages](#part1)\n",
    "* [Part 2: Motor Controller Circuits](#part2)"
   ]
  },
  {
   "cell_type": "markdown",
   "metadata": {},
   "source": [
    "<a id='part1'></a>\n",
    "# <span style=\"color:navy\">Part 1: Building the power voltages</span>\n",
    "-----\n",
    "\n",
    "Please use this [starter circuit](https://www.tinkercad.com/things/59dOApVLmnj) in TinkerCAD for the following lab.\n",
    "## (Virtual) Materials\n",
    "- 9V battery\n",
    "- Voltage regulator\n",
    "- Multimeter"
   ]
  },
  {
   "cell_type": "markdown",
   "metadata": {},
   "source": [
    "First we will build the 5V regulator. (Recall that 5V is used for Arduino logic.)\n",
    "\n",
    "\n",
    "\n",
    "## Tasks\n",
    "\n",
    "### 1.0 Plan Your Breadboard Layout\n",
    "\n",
    "Divide your breadboard into the following sections so that you have room for them all.\n",
    "- Two distinct power rails\n",
    "    - 9V from battery to the top power rail\n",
    "    - 5V from the output of volatge regulator to the bottom power rail\n",
    "- Connect the ground of all your supplies, and connect the two (-) to create your ground rail.\n",
    "- The purple sections are where you will build your motor driver circuits.\n",
    "- You will not be using the regulator directly in this lab, but they may come in handy in the next ones, so it's worth making sure you are familiar with how to put them together. You can review the lab2 notebook for the circuit diagram of the regulator.\n",
    "\n",
    "<img style=\"width:700px\" src=\"images/floorplan.png\">\n",
    "\n",
    "### 1.1 Assemble the 5V regulator & test your voltage regulator. (Read Part 1 of the lab note)\n",
    "Voltage regulators are important circuit components in modern circuit design. They enable the use of a range of input voltages, and output very stable desired voltages, even with varying loading conditions or varying source conditions (within a certain spec of course). Voltage/current regulator ICs usually also have built in protections, such as current limit or thermal shutdown to prevent damage to your circuit.\n",
    "\n",
    "Our circuit for this lab will take 9V from the battery and feed it through regulators that output 5V, which is required for the logic level of Arduino. The 5V regulator in TinkerCad is [LM7805](https://www.mouser.com/datasheet/2/149/LM7805-1010961.pdf). Take a look at its data-sheet and build the following circuit.\n",
    "\n",
    "SIXT33N will run on a 9V battery when it is running around. \n",
    "\n",
    "|Pinout:|Circuit:|\n",
    "|:-----:|:---------------:|\n",
    "|<img width=\"400px\" src=\"images/LM7805_pinout.png\">|<img width=\"500px\" src=\"images/LM7805_circuit.jpg\">|\n",
    "\n",
    "- Connect the decouple capacitors (C3, C4) to the input and output of the regulator.\n",
    "- Connect the 9V rail to the input of the 5V voltage regulator.\n",
    "- Connect the output of the 5V regulator to the 5V supply rail (A36-E36).\n",
    "- Connect the ground of the 5V regulator to the top Vss rail (-).\n",
    "- Use the multimeter to verify the voltage on the 5V rail is indeed 5V. (You may get the voltage a little bit lower than 5V, but it's OK)\n",
    "\n",
    "Now, you are going to work with some small signals. You don't want to be susceptible to voltage ripples and potential noise in the circuit, and the power rails can be a large source of noise. To keep some noise off of your power rails, we add decoupling capacitor to both the input and output of the regulator.\n",
    "\n",
    "Decoupling capacitors will reduce fluctuations on your rails (which can occur for example when the voltage source must supply a large amount of current across wires which actually have non-zero resistance and inductance) .  (https://en.wikipedia.org/wiki/Decoupling_capacitor) You should use them in every circuit you build <i>in the future for the rest of your life</i>.\n"
   ]
  },
  {
   "cell_type": "markdown",
   "metadata": {},
   "source": [
    "## Questions\n",
    "\n",
    "#### <span style=\"color:#075a04\"> For the regulator circuits, answer the following questions (remember to submit your answer on Gradescope): \n",
    "    \n",
    "#### <span style=\"color:#075a04\"> 1. What is the output voltage of the 5V regulator? Enter numerical value in V.\n",
    "\n",
    "< YOUR ANSWER ON GRADESCOPE >\n",
    "    \n",
    "**<span style=\"color:#075a04\">2. Connect a 10k resistor from the output of the 5V regulator to ground. What is the current being drawn from the battery (in mA) (only enter the magnitude of the numerical value and round to two decimal places)? Hint: You may place an multimeter in series with the 9V battery to measure its current. </span>**\n",
    "\n",
    "< YOUR ANSWER ON GRADESCOPE >\n",
    "    \n",
    "#### <span style=\"color:red\"> Remove the 10k resistor for the remainder of the lab."
   ]
  },
  {
   "cell_type": "markdown",
   "metadata": {},
   "source": [
    "<a id='part2'></a>\n",
    "# <span style=\"color:navy\">Part 2: Motor Controller Circuits</span>\n",
    "\n",
    "-----"
   ]
  },
  {
   "cell_type": "markdown",
   "metadata": {},
   "source": [
    "## (Virtual)  Materials\n",
    "- 1 9V battery\n",
    "- 2 NPN BJTs (Bipolar Junction Transistor)\n",
    "- 2 Diodes\n",
    "- 2 2k$\\Omega$ resistors\n",
    "- 1 3-terminal switch"
   ]
  },
  {
   "cell_type": "markdown",
   "metadata": {},
   "source": [
    "## Tasks\n",
    "\n",
    "### 2.0 Read <a href=\"https://drive.google.com/file/d/1SigTqJDvFqmkmn-5kiqWy4W_SyUGvg8c/view\">Part 2</a> of the lab note before you begin this part!\n",
    "\n",
    "S1XT33N will require 9V battery for both the regulator circuits and the motors. The $2\\mathrm{k}\\Omega$ resistor is used to limit the current flowing into the BJT to reduce the risk of the BJT burning out.\n",
    "\n",
    "\n",
    "### 2.1 Get familiar with the motor.\n",
    "\n",
    "1. **The motor has 6 pins.** The two leftmost pins are the driving pins that you are going to connect according to the motor controller schematic in part 2.2 to drive the motor. The other 4 pins are for the encoder module, which outputs a single pulse on channel A and B whenever the motor rotates for a specific amount. Channel A and B are identical, except for a quadrature phase difference which helps with identifying the direction of the rotation. Essentially, the two channels are the same waveform, except one is the delayed version of the other, and depending on which one is delayed, we can identify the directon of the rotation.\n",
    "By counting the number of pulses being output by the encoder, we can easily gauge how fast the motor is rotating and whether adjustments need to be made to the input signal.\n",
    "\n",
    "<img width=\"450px\" src=\"images/motor-with-encoder.jpg\">\n",
    "\n",
    "### 2.2 Build the motor controller circuits.\n",
    "1.  **Construct the circuit below for each wheel using the NPN BJT on the breadboard (same circuit for both left and right motor shown in breadboard layout in part 1)**. You may leave the encoder pins (all 4 of them) not connected for now (we will connect them in the next lab).\n",
    "\n",
    "<img width=\"450px\" src=\"images/motor-drive-with-switch.jpg\">\n",
    "\n",
    "- Connect the positive terminal of the motor to the switch and the negative terminal of the motor to the BJT. The motor is reversible between positive and negative terminal, i.e., if it is connected reversely, the motor would rotate in the opposite direction (negative number on the motor).\n",
    "- The pin diagram of the BJT is reproduced below. <span style=\"color:#ba190f\">**Make sure to match the Base, Emitter, and Collector properly to the schematic.**</span>\n",
    "\n",
    "<img width=\"450px\" src=\"images/proj-bjt.png\">\n",
    "\n",
    "- A <a href=\"https://www.allaboutcircuits.com/textbook/semiconductors/chpt-3/introduction-to-diodes-and-rectifiers/\">diode</a> is a component that only conducts current one way. This diode is needed because of the inductive characteristics of the motor. If the motor is on and we turn it off, the inductive behavior of the motor maintains the current and we need a way to dissipate it when the BJT is off. The diagram for the diode is shown below. **Note that the diode has a direction** - be careful which terminal is connected to the 9V power supply.\n",
    "<img width=\"300px\" src=\"images/proj-diode.png\">\n",
    "    \n",
    " **2. Add a switch between 9V and the motor drivers.** You only need **ONE** switch since both motors should be powered at the same time!\n",
    "- We are using this switch as a way to control whether your motors are powered or not. The switch shown below is a real life model of the component in TinkerCAD.\n",
    "- At any given time, two of the three pins below are connected depending on which side the switch is flipped to. If the switch is flipped to left, then the left pin would be connected to the common pin in the middle. On the other hand, if the switch is flipped to right, the right pin would be connected to the common pin in the middle.\n",
    "<img width=\"300px\" src=\"images/switch.png\">\n",
    "- Place the switch somewhere fairly central (with respect to the long side) on your breadboard.\n",
    "    - Connect the 9V to `Terminal 1`\n",
    "    - Connect the positive terminal of **BOTH** motors to `Common`. \n",
    "    - Connect `Terminal 2` to ground.\n",
    "- By sliding the switch to Terminal 1 (the switch can only be flipped after hitting `Start Simulation`), the motor is connected to the 9V supply. Otherwise, it is connected to ground and thus not powered.\n",
    "         \n",
    "\n",
    "         \n",
    "\n",
    "\n",
    "    \n",
    "    \n",
    "### 2.3 Test the motor controller circuits.\n",
    "\n",
    "**1. Connect the node labeled <span style=\"color:#ba190f\">Arduino output pin</span> in one of the motor controller circuit to <span style=\"color:#ba190f\">pin 9</span> of the Arduino and that of the other motor controller to ground. (Don't keep this node float or your simulation could be very slow.) Make sure to <span style=\"color:navy\">ground your Arduino</span> (connect gnd pin to negative rail)!**\n",
    "\n",
    "**2. Upload `motor_test.ino` to your code environment and open the serial monitor.**\n",
    "\n",
    "**3. Make sure the RPM of the DC motor is set to 12 (click the motor to see the setting) and start the simultaion**\n",
    "   - As the program runs, you should see the \"Duty Cycle\" reading change in the serial monitor. Your motor should speed up as the duty cycle increases, and slow down as it decreases. \n",
    "   - You might not see the motor spinning during the simulation, but **you should be able to read the speed written on the motor directly as shown below**.\n",
    "   \n",
    "<img width=\"300px\" src=\"images/motor_rpm.png\">\n",
    "    \n",
    "  \n",
    "<span style=\"color:#ba190f\">**4. Repeat for the other motor circuit. Make sure that both motors are drived as expected. In real life, they might not go at the same speed - our control scheme will make sure to account for this potential issue later in the project.**</span>\n",
    "\n",
    "<span style=\"color:#ba190f\">**HINT: If your simulation runs slow when trying to drive both motors at the same time, try disconnecting the PWM signal from one of the motor driver input (labeled \"Arduino output pin\" in the schematic) and connect that driver input to ground instead to turn it off.**</span>\n",
    "\n",
    "* Probe the Arduino output pin with an oscilloscope and observe the waveform and see how the its duty cycle changes. (Make sure the `Time Per Division` of the socilloscope is set to `1ms`)\n"
   ]
  },
  {
   "cell_type": "markdown",
   "metadata": {},
   "source": [
    "## Questions\n",
    "**<span style=\"color:#075a04\">3. What is the range of the duty cycle that the Arduino is able to generate?</span>**\n",
    "\n",
    "\n",
    "< YOUR ANSWER ON GRADESCOPE >"
   ]
  },
  {
   "cell_type": "markdown",
   "metadata": {},
   "source": [
    "**<span style=\"color:#075a04\">4. Turn on the 9V switch to allow driving the motor. What is the rpm of the motor value for the lowest duty cycle achievable? (write your answer in units of rpm and only enter the magnitude of the numerical value, which should be an integer)</span>**\n",
    "\n",
    "\n",
    "< YOUR ANSWER ON GRADESCOPE >"
   ]
  },
  {
   "cell_type": "markdown",
   "metadata": {},
   "source": [
    "**<span style=\"color:#075a04\">5. Turn on the 9V switch to allow driving the motor. What is the rpm of the motor value for the highest duty cycle achievable? (write your answer in units of rpm and only enter the magnitude of the numerical value, which should be an integer)</span>**\n",
    "\n",
    "\n",
    "< YOUR ANSWER ON GRADESCOPE >"
   ]
  },
  {
   "cell_type": "markdown",
   "metadata": {},
   "source": [
    "**<span style=\"color:#075a04\">6. Turn on the 9V switch to allow driving the motor. What is the maximum current flowing into the base of the BJT? (write your answer in units of mA, and only enter the absolute numerical value rounded to two decimal places) Hint: You could connect the `Arduino output pin` in the circuit diagram to 5V rail and measure the current if you find the maximum value difficult to measure with the varying PWM signal</span>**\n",
    "\n",
    "\n",
    "< YOUR ANSWER ON GRADESCOPE >"
   ]
  },
  {
   "cell_type": "markdown",
   "metadata": {},
   "source": [
    "**<span style=\"color:#075a04\">7. Turn on the 9V switch to allow driving the motor. What is the maximum current flowing into the collector of the BJT? (write your answer in units of mA, and only enter the absolute numerical value rounded to two decimal places) Hint: You could connect the `Arduino output pin` in the circuit diagram to 5V rail and measure the current if you find the maximum value difficult to measure with the varying PWM signal</span>**\n",
    "\n",
    "\n",
    "< YOUR ANSWER ON GRADESCOPE >"
   ]
  },
  {
   "cell_type": "markdown",
   "metadata": {},
   "source": [
    "**<span style=\"color:#ba190f\">8. With the 9V switch turned on, probe the base and the collector of the BJT on two separate oscilloscopes. Observe the two waveforms and answer the following questions.**\n",
    " \n",
    "**<span style=\"color:#075a04\">8.1. How are the two signals related? Are they in phase (meaning when one is HIGH the other is HIGH) or are they have 180 degrees phase difference/ inverted version of each other (meaning when one is HIGH the other is LOW)?</span>**\n",
    "\n",
    "< YOUR ANSWER ON GRADESCOPE >"
   ]
  },
  {
   "cell_type": "markdown",
   "metadata": {},
   "source": [
    "**<span style=\"color:#075a04\">8.2. What is the voltage of logic HIGH at the collector of the BJT? Express the value in V with two decimal places. (Read the value from the oscilloscope, +-10% is accepted as correct answer. Note that the central horizontal line is 0V. if the voltage range is 20V shown on the oscillator, it should be -10V to 10V)**\n",
    "    \n",
    "\n",
    "< YOUR ANSWER ON GRADESCOPE >"
   ]
  },
  {
   "cell_type": "markdown",
   "metadata": {},
   "source": [
    "**<span style=\"color:#075a04\">8.3. What is the voltage of logic HIGH at the base of the BJT? Express the value in V with two decimal places. (Read the value from the oscilloscope, +-10% is accepted as correct answer. Note that the central horizontal line is 0V. if the voltage range is 20V shown on the oscillator, it should be -10V to 10V)**\n",
    "    \n",
    "\n",
    "< YOUR ANSWER ON GRADESCOPE >"
   ]
  },
  {
   "cell_type": "markdown",
   "metadata": {},
   "source": [
    "**<span style=\"color:#ba190f\">9. Now change the resistor value from 2k to 4.5k and answer the following questions.**\n",
    "    \n",
    "**<span style=\"color:#075a04\">9.1. Turn on the 9V switch to allow driving the motor. What is the rpm of the motor value for the highest duty cycle achievable? (write your answer in units of rpm, and only enter the magnitude of the numerical value, which should be an integer)**\n",
    "    \n",
    "\n",
    "< YOUR ANSWER ON GRADESCOPE >"
   ]
  },
  {
   "cell_type": "markdown",
   "metadata": {},
   "source": [
    "**<span style=\"color:#075a04\"> 9.2. How does the current flowing into the base of the BJT change with the resistor?**\n",
    "\n",
    "\n",
    "< YOUR ANSWER ON GRADESCOPE >                                                                                "
   ]
  },
  {
   "cell_type": "markdown",
   "metadata": {},
   "source": [
    "**<span style=\"color:#075a04\"> 9.3. How does the voltage of logic HIGH at the collector of the BJT change? (i.e. How would your answer to 8.2 change if we increase the value of the resistor from 2k to 4.5k?)**\n",
    "\n",
    "\n",
    "< YOUR ANSWER ON GRADESCOPE >"
   ]
  },
  {
   "cell_type": "markdown",
   "metadata": {},
   "source": [
    "#### <span style=\"color:#075a04\"> 10. Please upload two screenshots of your final Tinkercad circuits, including both the circuit and schematic views, to Gradescope. See the Getting Started with Tinkercad Guide for instructions on how to display the schematic view."
   ]
  },
  {
   "cell_type": "markdown",
   "metadata": {},
   "source": [
    "<a id='part3'></a>\n",
    "# <span style=\"color:#ba190f\">CHECKOFF</span>\n",
    "-----\n",
    "### For all students, submit your answers to Questions 1-9 to the Gradescope assignment \"[Sim] Lab 3: Motors and Regulators.\" Submit your screenshots for Question 10 to the Gradescope assignment \"[Sim] Lab 3: Tinkercad Circuits.\" Lab 3 is due on Sunday, July 3 at 11:59pm. No late submissions will be accepted.\n",
    "\n",
    "\n",
    "### Save this notebook somewhere you can access! \n",
    "\n",
    "We recommend making a shared Google Drive with your lab partner, since GitHub can be annoying with Jupyter notebooks. It's good to familiarize yourself with the user interface of Tinkercad and understand the basic functions of these circuits that you have built and analyzed.\n",
    "\n",
    "\n",
    "### Great job finishing 16B Lab 3!\n"
   ]
  },
  {
   "cell_type": "code",
   "execution_count": null,
   "metadata": {},
   "outputs": [],
   "source": []
  }
 ],
 "metadata": {
  "anaconda-cloud": {},
  "kernelspec": {
   "display_name": "Python 3",
   "language": "python",
   "name": "python3"
  },
  "language_info": {
   "codemirror_mode": {
    "name": "ipython",
    "version": 3
   },
   "file_extension": ".py",
   "mimetype": "text/x-python",
   "name": "python",
   "nbconvert_exporter": "python",
   "pygments_lexer": "ipython3",
   "version": "3.9.5"
  }
 },
 "nbformat": 4,
 "nbformat_minor": 4
}
